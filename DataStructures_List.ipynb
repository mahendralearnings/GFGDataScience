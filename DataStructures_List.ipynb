{
 "cells": [
  {
   "cell_type": "code",
   "execution_count": 1,
   "id": "2b987276-fe7e-46e3-a4e4-32895f0082c3",
   "metadata": {},
   "outputs": [
    {
     "name": "stdout",
     "output_type": "stream",
     "text": [
      "Hello Happy ganesh chaturhi\n"
     ]
    }
   ],
   "source": [
    "print(\"Hello Happy ganesh chaturhi\")"
   ]
  },
  {
   "cell_type": "code",
   "execution_count": 2,
   "id": "6eac9f56-f98f-454b-afed-95d90160ff38",
   "metadata": {},
   "outputs": [
    {
     "data": {
      "text/plain": [
       "[1, 2, 3, 4, 5, 9, 10, 11, 22, 33]"
      ]
     },
     "execution_count": 2,
     "metadata": {},
     "output_type": "execute_result"
    }
   ],
   "source": [
    "lst=[1,2,3,5,33,22,11,10,9,4]\n",
    "\n",
    "sorted(lst)"
   ]
  },
  {
   "cell_type": "code",
   "execution_count": 8,
   "id": "5890aab3-1af2-471e-8286-28967ea7867e",
   "metadata": {},
   "outputs": [
    {
     "data": {
      "text/plain": [
       "[4, 9, 10, 11, 22, 33, 5, 3, 2, 1]"
      ]
     },
     "execution_count": 8,
     "metadata": {},
     "output_type": "execute_result"
    }
   ],
   "source": [
    "(lst[::-1])"
   ]
  },
  {
   "cell_type": "code",
   "execution_count": 10,
   "id": "cfc9f2cd-356e-439a-9af8-4cb517c6a886",
   "metadata": {},
   "outputs": [
    {
     "data": {
      "text/plain": [
       "[1, 2, 3, 5, 33, 22, 11, 10, 9, 4, 50, 50]"
      ]
     },
     "execution_count": 10,
     "metadata": {},
     "output_type": "execute_result"
    }
   ],
   "source": [
    "lst.append(50)\n",
    "\n",
    "lst"
   ]
  },
  {
   "cell_type": "code",
   "execution_count": 11,
   "id": "2e11e095-f14d-4a95-90a1-4d5665bb99bc",
   "metadata": {},
   "outputs": [
    {
     "data": {
      "text/plain": [
       "[1, 2, 3, 5, 33, 22, 11, 10, 9, 4, 50, 50, 'mahendra', 'indra', 'nali']"
      ]
     },
     "execution_count": 11,
     "metadata": {},
     "output_type": "execute_result"
    }
   ],
   "source": [
    "lst.extend([\"mahendra\",\"indra\",\"nali\"])\n",
    "lst"
   ]
  },
  {
   "cell_type": "code",
   "execution_count": 19,
   "id": "66d0eaed-27c0-496b-a5a7-e2370f0fee3a",
   "metadata": {},
   "outputs": [],
   "source": [
    "lst.remove('indra')"
   ]
  },
  {
   "cell_type": "code",
   "execution_count": 20,
   "id": "271c85cf-7123-4c60-9dad-c27807f8e5ed",
   "metadata": {},
   "outputs": [],
   "source": [
    "lst.remove('nali')"
   ]
  },
  {
   "cell_type": "code",
   "execution_count": 21,
   "id": "2ac8a269-8f5f-423e-ba28-4bd017c871b7",
   "metadata": {},
   "outputs": [
    {
     "data": {
      "text/plain": [
       "[1, 2, 3, 5, 33, 22, 11, 10, 9, 4, 50, 50]"
      ]
     },
     "execution_count": 21,
     "metadata": {},
     "output_type": "execute_result"
    }
   ],
   "source": [
    "lst"
   ]
  },
  {
   "cell_type": "code",
   "execution_count": 24,
   "id": "1d287d30-a21d-448b-a433-ae9f8d09292a",
   "metadata": {},
   "outputs": [
    {
     "name": "stdout",
     "output_type": "stream",
     "text": [
      "1\n",
      "--------------------------------------------------\n"
     ]
    },
    {
     "data": {
      "text/plain": [
       "50"
      ]
     },
     "execution_count": 24,
     "metadata": {},
     "output_type": "execute_result"
    }
   ],
   "source": [
    "print(min(lst))\n",
    "\n",
    "print('-'*50)\n",
    "\n",
    "max(lst)"
   ]
  },
  {
   "cell_type": "markdown",
   "id": "d8c2d5d3-06ad-4d1f-9977-64eb69b55467",
   "metadata": {},
   "source": [
    "# Iterating list two ways"
   ]
  },
  {
   "cell_type": "raw",
   "id": "3a00f721-d320-42e6-beae-819437650a3f",
   "metadata": {},
   "source": []
  },
  {
   "cell_type": "code",
   "execution_count": 27,
   "id": "608b536f-f24c-4f38-b547-3ec9636741ce",
   "metadata": {},
   "outputs": [
    {
     "name": "stdout",
     "output_type": "stream",
     "text": [
      "1 2 3 5 33 22 11 10 9 4 50 50 "
     ]
    }
   ],
   "source": [
    "for i in lst:\n",
    "    print(i,end=' ')"
   ]
  },
  {
   "cell_type": "code",
   "execution_count": 32,
   "id": "e611f55b-f94c-4055-bc0e-742b13e43426",
   "metadata": {},
   "outputs": [
    {
     "name": "stdout",
     "output_type": "stream",
     "text": [
      "1\n",
      "2\n",
      "3\n",
      "5\n",
      "33\n",
      "22\n",
      "11\n",
      "10\n",
      "9\n",
      "4\n",
      "50\n",
      "50\n"
     ]
    }
   ],
   "source": [
    "for i in range(len(lst)):\n",
    "#through indexing approach with range \n",
    "#rane star6ts from 0 and list index starts from 0    \n",
    "    print(lst[i])"
   ]
  },
  {
   "cell_type": "markdown",
   "id": "5e4f69ff-4e10-410d-9966-beca279f208c",
   "metadata": {},
   "source": [
    "# reverse iterating\n",
    "\n",
    "\n"
   ]
  },
  {
   "cell_type": "code",
   "execution_count": 33,
   "id": "421c13ca-be6f-4e35-8ff2-77b02288303d",
   "metadata": {},
   "outputs": [
    {
     "name": "stdout",
     "output_type": "stream",
     "text": [
      "50 50 4 9 10 11 22 33 5 3 2 1 "
     ]
    }
   ],
   "source": [
    "for rev in range(len(lst)-1,-1,-1):\n",
    "      print(lst[rev] ,end=\" \")"
   ]
  },
  {
   "cell_type": "code",
   "execution_count": null,
   "id": "2e72329d-aa18-421b-b68c-68fd765fcac7",
   "metadata": {},
   "outputs": [],
   "source": []
  },
  {
   "cell_type": "markdown",
   "id": "7af37027-5e3b-48d5-9c7c-ccb5849ab3e5",
   "metadata": {},
   "source": [
    "# Problems"
   ]
  },
  {
   "cell_type": "code",
   "execution_count": 36,
   "id": "cac4fa5d-6c5d-4a0f-94bb-f15c3571d715",
   "metadata": {},
   "outputs": [
    {
     "name": "stdout",
     "output_type": "stream",
     "text": [
      "[2, 4, 6, 8, 10]\n"
     ]
    }
   ],
   "source": [
    "numbers = [1, 2, 3, 4, 5]\n",
    "# Output: 2, 4, 6, 8, 10\n",
    "\n",
    "\n",
    "res=([i*2 for i in numbers ])\n",
    "\n",
    "print(res)"
   ]
  },
  {
   "cell_type": "code",
   "execution_count": 42,
   "id": "2b0b017b-7ff6-47e0-965a-9c8799fc6f76",
   "metadata": {},
   "outputs": [
    {
     "ename": "SyntaxError",
     "evalue": "invalid syntax (1805233340.py, line 1)",
     "output_type": "error",
     "traceback": [
      "\u001b[1;36m  Cell \u001b[1;32mIn[42], line 1\u001b[1;36m\u001b[0m\n\u001b[1;33m    res=([for i in numbers if (i*2) and (i%4==0)])\u001b[0m\n\u001b[1;37m          ^\u001b[0m\n\u001b[1;31mSyntaxError\u001b[0m\u001b[1;31m:\u001b[0m invalid syntax\n"
     ]
    }
   ],
   "source": [
    "\n",
    "res=([for i in numbers if (i*2) and (i%4==0)])\n",
    "print(res)\n"
   ]
  },
  {
   "cell_type": "code",
   "execution_count": 44,
   "id": "1c5f40cb-c85c-417d-aaa5-0403d0ad6f76",
   "metadata": {},
   "outputs": [
    {
     "name": "stdout",
     "output_type": "stream",
     "text": [
      "26.3\n",
      "------------------------------\n",
      "20.1\n"
     ]
    }
   ],
   "source": [
    "temperatures = [23.4, 25.6, 20.1, 22.5, 26.3, 21.8, 24.0]\n",
    "print(max(temperatures))\n",
    "\n",
    "print('-'*30)\n",
    "print(min(temperatures))"
   ]
  },
  {
   "cell_type": "code",
   "execution_count": 45,
   "id": "1008bfa3-5740-46d7-8e8e-0dc0785d9c11",
   "metadata": {},
   "outputs": [
    {
     "name": "stdout",
     "output_type": "stream",
     "text": [
      "['Bob', 'Carol', 'David', 'Eve']\n"
     ]
    }
   ],
   "source": [
    "employees = ['John', 'Alice', 'Bob', 'Carol', 'David', 'Eve', 'Frank']\n",
    "# Output: ['Bob', 'Carol', 'David', 'Eve']\n",
    "print(employees[2:6])"
   ]
  },
  {
   "cell_type": "markdown",
   "id": "7dbc9090-45b4-4614-9bc1-7432486fffc9",
   "metadata": {},
   "source": [
    "# sorted(iterable, key=None, reverse=False)\n"
   ]
  },
  {
   "cell_type": "code",
   "execution_count": 63,
   "id": "ba2e0958-6b5e-4974-b92f-5cb6f36caa15",
   "metadata": {},
   "outputs": [
    {
     "name": "stdout",
     "output_type": "stream",
     "text": [
      "David: 95\n",
      "Alice: 90\n",
      "Charlie: 85\n",
      "Bob: 75\n"
     ]
    }
   ],
   "source": [
    "students = [\n",
    "    {\"name\": \"Alice\", \"score\": 90},\n",
    "    {\"name\": \"Bob\", \"score\": 75},\n",
    "    {\"name\": \"Charlie\", \"score\": 85},\n",
    "    {\"name\": \"David\", \"score\": 95}\n",
    "]\n",
    "\n",
    "# Sorting by 'score'\n",
    "sorted_students = sorted(students, key=lambda x: x['score'], reverse=True)\n",
    "\n",
    "# Print sorted list\n",
    "for student in sorted_students:\n",
    "    print(f\"{student['name']}: {student['score']}\")\n"
   ]
  },
  {
   "cell_type": "code",
   "execution_count": null,
   "id": "36b567a9-e55f-4dbc-a624-89a8e8382647",
   "metadata": {},
   "outputs": [],
   "source": []
  },
  {
   "cell_type": "code",
   "execution_count": 64,
   "id": "45a8048e-f53c-44e4-a59d-1129d8f205f6",
   "metadata": {},
   "outputs": [
    {
     "name": "stdout",
     "output_type": "stream",
     "text": [
      "[[1, 2, 4], [4, 5, 6]]\n"
     ]
    }
   ],
   "source": [
    "l=[[1,2,4] ,[4,5,6] ]\n",
    "\n",
    "print(l)\n"
   ]
  },
  {
   "cell_type": "code",
   "execution_count": 67,
   "id": "c2929cb6-e0e3-4491-a474-3774416dc82a",
   "metadata": {},
   "outputs": [
    {
     "name": "stdout",
     "output_type": "stream",
     "text": [
      "[[1, 2, 4], [4, 5, 6], [2, 3, 4, 5, 6], [2, 3, 4, 5, 6]]\n"
     ]
    }
   ],
   "source": [
    "l.append([2,3,4,5,6])\n",
    "print(l)"
   ]
  },
  {
   "cell_type": "code",
   "execution_count": 73,
   "id": "067f2ad8-16b3-4e25-a7e7-15611047ef88",
   "metadata": {},
   "outputs": [
    {
     "name": "stdout",
     "output_type": "stream",
     "text": [
      "[[1, 2, 4], [4, 5, 6], [2, 3, 4, 5, 6], [2, 3, 4, 5, 6], 3, 3, 3, 3, 4, 5, 6]\n"
     ]
    }
   ],
   "source": [
    "l.extend([3,4,5,6])\n",
    "print(l)"
   ]
  },
  {
   "cell_type": "code",
   "execution_count": 75,
   "id": "fc7f2ea8-9c34-4346-a677-1a021b8ed69c",
   "metadata": {},
   "outputs": [
    {
     "name": "stdout",
     "output_type": "stream",
     "text": [
      "[[1, 2, 4], [4, 5, 6], [2, 3, 4, 5, 6], [2, 3, 4, 5, 6], 3, 3, 3, 3, 4, 5, 6, 10, 20, [30, 40, 50, 60]]\n"
     ]
    }
   ],
   "source": [
    "l.extend([10,20,[30,40,50,60]])\n",
    "print(l)"
   ]
  },
  {
   "cell_type": "markdown",
   "id": "3c315a05-1504-4aa0-abad-f40495d12809",
   "metadata": {},
   "source": [
    "### Thus, extend() flattens the elements at the top level but does not flatten nested structures (like the list [30, 40, 50, 60]).\n",
    "\n"
   ]
  },
  {
   "cell_type": "code",
   "execution_count": null,
   "id": "7051c2fd-c4ef-434e-b76a-f56d22bfb8c7",
   "metadata": {},
   "outputs": [],
   "source": []
  },
  {
   "cell_type": "code",
   "execution_count": null,
   "id": "0018a8b7-7ea2-4106-ae76-d5409fcc8fdf",
   "metadata": {},
   "outputs": [],
   "source": []
  },
  {
   "cell_type": "code",
   "execution_count": null,
   "id": "d2935d32-e046-4e47-ac79-b561299cad2b",
   "metadata": {},
   "outputs": [],
   "source": []
  },
  {
   "cell_type": "code",
   "execution_count": null,
   "id": "91ef8cef-6c7a-452e-bb83-8807d76b7cc7",
   "metadata": {},
   "outputs": [],
   "source": []
  },
  {
   "cell_type": "code",
   "execution_count": null,
   "id": "c9eaff05-3c9f-4c4a-b47d-69ccd5c73700",
   "metadata": {},
   "outputs": [],
   "source": []
  },
  {
   "cell_type": "code",
   "execution_count": null,
   "id": "4109b14c-4bca-4064-98ca-7416c516ff38",
   "metadata": {},
   "outputs": [],
   "source": []
  },
  {
   "cell_type": "code",
   "execution_count": null,
   "id": "e77ab892-0d6b-4e23-8533-08284ecdaa1e",
   "metadata": {},
   "outputs": [],
   "source": []
  },
  {
   "cell_type": "code",
   "execution_count": null,
   "id": "d9385280-cd85-4760-9079-3409c8085ae5",
   "metadata": {},
   "outputs": [],
   "source": []
  },
  {
   "cell_type": "code",
   "execution_count": null,
   "id": "2ba9f44a-2b97-4d29-a082-d154d2287cc1",
   "metadata": {},
   "outputs": [],
   "source": []
  },
  {
   "cell_type": "code",
   "execution_count": null,
   "id": "1826f2a4-cca6-41fc-8c66-063d44ca9c6d",
   "metadata": {},
   "outputs": [],
   "source": []
  },
  {
   "cell_type": "code",
   "execution_count": null,
   "id": "78e299e8-973c-459d-bb42-451aeb0715a8",
   "metadata": {},
   "outputs": [],
   "source": []
  },
  {
   "cell_type": "code",
   "execution_count": null,
   "id": "585232fe-825d-4b1b-800e-c0134eed9a79",
   "metadata": {},
   "outputs": [],
   "source": []
  },
  {
   "cell_type": "code",
   "execution_count": null,
   "id": "84067905-12c1-4476-a7b5-dc92fd461541",
   "metadata": {},
   "outputs": [],
   "source": []
  },
  {
   "cell_type": "code",
   "execution_count": null,
   "id": "f462a726-2df6-4729-ac5c-55f459a58790",
   "metadata": {},
   "outputs": [],
   "source": []
  },
  {
   "cell_type": "code",
   "execution_count": null,
   "id": "48dbf0d2-2f44-4806-b9e4-c951bea66ef5",
   "metadata": {},
   "outputs": [],
   "source": []
  },
  {
   "cell_type": "code",
   "execution_count": null,
   "id": "7fd4ade0-eca6-4219-b6e4-564750a53d50",
   "metadata": {},
   "outputs": [],
   "source": []
  },
  {
   "cell_type": "code",
   "execution_count": null,
   "id": "32b08945-f0e8-4961-af21-ee84b18988dc",
   "metadata": {},
   "outputs": [],
   "source": []
  },
  {
   "cell_type": "code",
   "execution_count": null,
   "id": "bf454a73-9f01-452b-82b0-07d1f0659f18",
   "metadata": {},
   "outputs": [],
   "source": []
  },
  {
   "cell_type": "code",
   "execution_count": null,
   "id": "b405df8a-313e-4ea3-b072-3b37d11477f3",
   "metadata": {},
   "outputs": [],
   "source": []
  },
  {
   "cell_type": "code",
   "execution_count": null,
   "id": "bcc8a35d-b1bd-4a5f-9334-3a7bb9a80012",
   "metadata": {},
   "outputs": [],
   "source": []
  },
  {
   "cell_type": "code",
   "execution_count": null,
   "id": "68260eae-d17e-4411-8624-96b910b9eeac",
   "metadata": {},
   "outputs": [],
   "source": []
  },
  {
   "cell_type": "code",
   "execution_count": null,
   "id": "91a720e6-13d7-4b34-89f2-ace2048122c5",
   "metadata": {},
   "outputs": [],
   "source": []
  },
  {
   "cell_type": "code",
   "execution_count": null,
   "id": "cb59e960-ba35-4793-8c0b-fad1a55e1313",
   "metadata": {},
   "outputs": [],
   "source": []
  },
  {
   "cell_type": "code",
   "execution_count": null,
   "id": "29dd4f95-94d9-404e-8c29-b26a1a11df4b",
   "metadata": {},
   "outputs": [],
   "source": []
  },
  {
   "cell_type": "code",
   "execution_count": null,
   "id": "bc631076-f139-408b-bfe6-5f1b98846ce4",
   "metadata": {},
   "outputs": [],
   "source": []
  },
  {
   "cell_type": "code",
   "execution_count": null,
   "id": "70fcf51c-e8ac-4729-8ebd-3916fb16cf4f",
   "metadata": {},
   "outputs": [],
   "source": []
  },
  {
   "cell_type": "code",
   "execution_count": null,
   "id": "d0ce7f84-11d0-4a7d-a5b3-6385de18462d",
   "metadata": {},
   "outputs": [],
   "source": []
  },
  {
   "cell_type": "code",
   "execution_count": null,
   "id": "0c526381-94ba-4840-b43f-7369207b71b1",
   "metadata": {},
   "outputs": [],
   "source": []
  },
  {
   "cell_type": "code",
   "execution_count": null,
   "id": "dc7beee8-7f3b-48a0-b113-86d36f1a2aa2",
   "metadata": {},
   "outputs": [],
   "source": []
  },
  {
   "cell_type": "code",
   "execution_count": null,
   "id": "a72bf2c4-8ebb-4acc-b7b6-03032d6d81e0",
   "metadata": {},
   "outputs": [],
   "source": []
  },
  {
   "cell_type": "code",
   "execution_count": null,
   "id": "c616fad1-ea33-4e2d-a574-523764621cc3",
   "metadata": {},
   "outputs": [],
   "source": []
  },
  {
   "cell_type": "code",
   "execution_count": null,
   "id": "9974d2e4-806c-456a-acda-33156edfbf5a",
   "metadata": {},
   "outputs": [],
   "source": []
  },
  {
   "cell_type": "code",
   "execution_count": null,
   "id": "2a8fec95-907c-4e22-bb38-07da3da57502",
   "metadata": {},
   "outputs": [],
   "source": []
  },
  {
   "cell_type": "code",
   "execution_count": null,
   "id": "40909d07-7d9e-4ed7-90e5-4ece4fd01d28",
   "metadata": {},
   "outputs": [],
   "source": []
  },
  {
   "cell_type": "code",
   "execution_count": null,
   "id": "a46389c5-ed8f-4f4a-9448-3b52a5ba50ec",
   "metadata": {},
   "outputs": [],
   "source": []
  },
  {
   "cell_type": "code",
   "execution_count": null,
   "id": "bf0898eb-cef2-4c82-bdf8-0ace461cdcfc",
   "metadata": {},
   "outputs": [],
   "source": []
  },
  {
   "cell_type": "code",
   "execution_count": null,
   "id": "95e505da-2f6e-49a8-9195-04f2d2492b09",
   "metadata": {},
   "outputs": [],
   "source": []
  },
  {
   "cell_type": "code",
   "execution_count": null,
   "id": "823222f9-52e9-41db-a453-fcf696ba2dd7",
   "metadata": {},
   "outputs": [],
   "source": []
  },
  {
   "cell_type": "code",
   "execution_count": null,
   "id": "8f67ad0f-5f4d-4be6-aa91-67b8ed75dee1",
   "metadata": {},
   "outputs": [],
   "source": []
  },
  {
   "cell_type": "code",
   "execution_count": null,
   "id": "af06b88a-a317-42b2-ae31-6e0250ce31ee",
   "metadata": {},
   "outputs": [],
   "source": []
  },
  {
   "cell_type": "code",
   "execution_count": null,
   "id": "1787795c-5351-4e3b-b1ed-f20515c6ce8a",
   "metadata": {},
   "outputs": [],
   "source": []
  },
  {
   "cell_type": "code",
   "execution_count": null,
   "id": "f114bf61-ae16-4d2c-aaa0-c6c66bb9c053",
   "metadata": {},
   "outputs": [],
   "source": []
  },
  {
   "cell_type": "code",
   "execution_count": null,
   "id": "4b317172-f8ae-4efe-ac54-0dcac5fbcd93",
   "metadata": {},
   "outputs": [],
   "source": []
  },
  {
   "cell_type": "code",
   "execution_count": null,
   "id": "0077a3f7-2231-49a0-959e-48baa7cd61b0",
   "metadata": {},
   "outputs": [],
   "source": []
  },
  {
   "cell_type": "code",
   "execution_count": null,
   "id": "33d23b90-637b-4c43-8c28-2e6a8a693d15",
   "metadata": {},
   "outputs": [],
   "source": []
  },
  {
   "cell_type": "code",
   "execution_count": null,
   "id": "c425ec26-3a0a-4303-aaf6-0f5fd1542d6c",
   "metadata": {},
   "outputs": [],
   "source": []
  },
  {
   "cell_type": "code",
   "execution_count": null,
   "id": "49458323-f33e-44ad-8394-babe384721e9",
   "metadata": {},
   "outputs": [],
   "source": []
  },
  {
   "cell_type": "code",
   "execution_count": null,
   "id": "1d08b6d0-1985-4400-abc2-b3f7ed34b962",
   "metadata": {},
   "outputs": [],
   "source": []
  }
 ],
 "metadata": {
  "kernelspec": {
   "display_name": "Python 3 (ipykernel)",
   "language": "python",
   "name": "python3"
  },
  "language_info": {
   "codemirror_mode": {
    "name": "ipython",
    "version": 3
   },
   "file_extension": ".py",
   "mimetype": "text/x-python",
   "name": "python",
   "nbconvert_exporter": "python",
   "pygments_lexer": "ipython3",
   "version": "3.12.4"
  }
 },
 "nbformat": 4,
 "nbformat_minor": 5
}
