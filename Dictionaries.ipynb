{
 "cells": [
  {
   "cell_type": "code",
   "execution_count": 2,
   "id": "c8bf7aff-9363-4225-add1-6f24c7311250",
   "metadata": {},
   "outputs": [
    {
     "data": {
      "text/plain": [
       "{1: 'mahendra', 2: 'nali', 3: 'n', 4: 'a', 5: 'm', 6: 'e'}"
      ]
     },
     "execution_count": 2,
     "metadata": {},
     "output_type": "execute_result"
    }
   ],
   "source": [
    "dct={1:'mahendra' ,2:'nali',3:'n',4:'a',5:'m',6:'e'}\n",
    "dct"
   ]
  },
  {
   "cell_type": "code",
   "execution_count": 5,
   "id": "b0965dc2-af13-43db-9e88-188a1c7fda82",
   "metadata": {},
   "outputs": [
    {
     "data": {
      "text/plain": [
       "{'1': 200, '2': 300, '4': 500}"
      ]
     },
     "execution_count": 5,
     "metadata": {},
     "output_type": "execute_result"
    }
   ],
   "source": [
    "dct2={ '1':200,'2':300,'4':500}\n",
    "\n",
    "dct2"
   ]
  },
  {
   "cell_type": "markdown",
   "id": "f54243ae-a233-4ca1-b78a-024924aed7c1",
   "metadata": {},
   "source": [
    "we can declare keys with any type but only rule is we need to make **key**  is **UNIQUE**"
   ]
  },
  {
   "cell_type": "markdown",
   "id": "194e1ddc-aacb-4d1c-9672-968980bb5c85",
   "metadata": {},
   "source": [
    "## access the element"
   ]
  },
  {
   "cell_type": "code",
   "execution_count": 12,
   "id": "34ae2a71-ff31-4878-a64b-8cea8d462139",
   "metadata": {},
   "outputs": [
    {
     "name": "stdout",
     "output_type": "stream",
     "text": [
      "nali\n",
      "mahendra\n",
      "------------------------------\n",
      "500\n"
     ]
    }
   ],
   "source": [
    "print(dct.get(2))\n",
    "print(dct[1])\n",
    "\n",
    "print('-'*30)\n",
    "\n",
    "print(dct2['4'])"
   ]
  },
  {
   "cell_type": "markdown",
   "id": "f4b75d79-1a5a-474d-a75f-10d1cdab612a",
   "metadata": {},
   "source": [
    "adding and dupdating kev and value pairs"
   ]
  },
  {
   "cell_type": "code",
   "execution_count": 14,
   "id": "f17dbe74-dee5-4fc2-b035-272bffcf4dc3",
   "metadata": {},
   "outputs": [
    {
     "name": "stdout",
     "output_type": "stream",
     "text": [
      "{'1': 200, '2': 300, '4': 500, '7': 700}\n"
     ]
    }
   ],
   "source": [
    "dct2['7']=700\n",
    "\n",
    "print(dct2)"
   ]
  },
  {
   "cell_type": "code",
   "execution_count": 22,
   "id": "18198d3d-e429-4aaa-a51c-237aaa502aee",
   "metadata": {},
   "outputs": [
    {
     "name": "stdout",
     "output_type": "stream",
     "text": [
      "{'2': 300}\n"
     ]
    }
   ],
   "source": [
    "#del dct2[2]\n",
    "\n",
    "print(dct2)"
   ]
  },
  {
   "cell_type": "code",
   "execution_count": 26,
   "id": "b56fc89f-3765-4236-a224-b82010d9dcb9",
   "metadata": {},
   "outputs": [
    {
     "data": {
      "text/plain": [
       "{}"
      ]
     },
     "execution_count": 26,
     "metadata": {},
     "output_type": "execute_result"
    }
   ],
   "source": [
    "#cleaning the dictionary\n",
    "\n",
    "dct2.clear()\n",
    "\n",
    "dct2"
   ]
  },
  {
   "cell_type": "code",
   "execution_count": 30,
   "id": "97245375-1b4d-4672-8410-6a6b6b4283f9",
   "metadata": {},
   "outputs": [
    {
     "name": "stdout",
     "output_type": "stream",
     "text": [
      "keys are printed as : dict_keys([1, 2, 3, 4, 5, 6])\n",
      "values are printed as : dict_values(['mahendra', 'nali', 'kalyan', 'bala', 'jenny', 'maria'])\n"
     ]
    }
   ],
   "source": [
    "#iterating through dictionary\n",
    "dct={1:'mahendra' ,2:'nali',3:'kalyan',4:'bala',5:'jenny',6:'maria'}\n",
    "print(\"keys are printed as :\",dct.keys())\n",
    "\n",
    "print(\"values are printed as :\",dct.values())\n",
    "\n",
    "\n",
    "\n"
   ]
  },
  {
   "cell_type": "code",
   "execution_count": 36,
   "id": "bad3ef19-db68-4a69-8612-d8b8f0554e35",
   "metadata": {},
   "outputs": [
    {
     "name": "stdout",
     "output_type": "stream",
     "text": [
      "1 mahendra\n",
      "2 nali\n",
      "3 kalyan\n",
      "4 bala\n",
      "5 jenny\n",
      "6 maria\n",
      "----------------------------------------\n",
      "1 mahendra\n",
      "2 nali\n",
      "3 kalyan\n",
      "4 bala\n",
      "5 jenny\n",
      "6 maria\n"
     ]
    }
   ],
   "source": [
    "for k in dct.keys():\n",
    "    print(k ,dct[k])\n",
    "\n",
    "print('-'*40)\n",
    "\n",
    "for k,v in dct.items():\n",
    "    print(k,v)"
   ]
  },
  {
   "cell_type": "code",
   "execution_count": 48,
   "id": "1eaa45ce-eba4-49ab-95ce-448f89ee5d80",
   "metadata": {},
   "outputs": [
    {
     "name": "stdout",
     "output_type": "stream",
     "text": [
      "{5: 'fivee', 6: 'six', 7: 'seven', 8: 'eight'}\n",
      "None\n"
     ]
    }
   ],
   "source": [
    "#Check i f key os present or not\n",
    "\n",
    "d1={1:'one',2:'two',3:'three',4:'four',5:'fivee'}\n",
    "d2={5:'fivee',6:'six',7:'seven',8:'eight'}\n",
    "\n",
    "res=d1.update(d2)\n",
    "\n",
    "\n",
    "print(d2)\n",
    "\n",
    "print(res)"
   ]
  },
  {
   "cell_type": "code",
   "execution_count": null,
   "id": "d3398ba3-32ed-4e14-8fa9-8bfcab209941",
   "metadata": {},
   "outputs": [],
   "source": []
  },
  {
   "cell_type": "code",
   "execution_count": null,
   "id": "20cf8071-eed1-4139-8d6f-f555915ff068",
   "metadata": {},
   "outputs": [],
   "source": []
  },
  {
   "cell_type": "code",
   "execution_count": 46,
   "id": "0960a512-e6fa-4b63-bae2-96d00464c22d",
   "metadata": {},
   "outputs": [
    {
     "name": "stdout",
     "output_type": "stream",
     "text": [
      "{1: 'one', 2: 'two', 3: 'three', 4: 'four', 5: 'fivee', 6: 'six', 7: 'seven', 8: 'eight'}\n"
     ]
    }
   ],
   "source": [
    "merged_dict={**d1,**d2}\n",
    "\n",
    "print(merged_dict)"
   ]
  },
  {
   "cell_type": "code",
   "execution_count": null,
   "id": "935d37ad-36ff-448c-b0f1-f23dffd88b57",
   "metadata": {},
   "outputs": [],
   "source": []
  },
  {
   "cell_type": "code",
   "execution_count": 41,
   "id": "b34b82b3-09e2-4737-ac4a-373581b01a4a",
   "metadata": {},
   "outputs": [
    {
     "name": "stdout",
     "output_type": "stream",
     "text": [
      "{'a': 1, 'b': 3, 'c': 4}\n"
     ]
    }
   ],
   "source": [
    "dict1 = {'a': 1, 'b': 2}\n",
    "dict2 = {'b': 3, 'c': 4}\n",
    "\n",
    "# Using update()\n",
    "dict1.update(dict2)\n",
    "\n",
    "print(dict1)\n"
   ]
  },
  {
   "cell_type": "code",
   "execution_count": 50,
   "id": "555537b5-60e6-4450-b05c-0474ce236b35",
   "metadata": {},
   "outputs": [
    {
     "name": "stdout",
     "output_type": "stream",
     "text": [
      "{'a': 1, 'b': 3, 'c': 4}\n"
     ]
    }
   ],
   "source": [
    "#using | pipe operator \n",
    "dict1 = {'a': 1, 'b': 2}\n",
    "dict2 = {'b': 3, 'c': 4}\n",
    "\n",
    "# Using | operator\n",
    "merged_dict = dict1 | dict2\n",
    "\n",
    "print(merged_dict)\n",
    "\n"
   ]
  },
  {
   "cell_type": "markdown",
   "id": "97eac6f7-df67-4d01-a9ad-dde99888705a",
   "metadata": {},
   "source": [
    "## 4. Using a Loop (Works in All Python Versions)\n"
   ]
  },
  {
   "cell_type": "code",
   "execution_count": 56,
   "id": "45ecfec1-2652-4ec1-b94f-394fa0f921a3",
   "metadata": {},
   "outputs": [
    {
     "name": "stdout",
     "output_type": "stream",
     "text": [
      "before merging {'a': 1, 'b': 2, 'd': 5}\n",
      "{'a': 1, 'b': 3, 'd': 5}\n",
      "{'a': 1, 'b': 3, 'd': 5, 'c': 4}\n",
      "{'a': 1, 'b': 3, 'd': 5, 'c': 4}\n"
     ]
    }
   ],
   "source": [
    "dict1 = {'a': 1, 'b': 2,'d':5}\n",
    "dict2 = {'b': 3, 'c': 4}\n",
    "\n",
    "\n",
    "merged_dic=dict1.copy()\n",
    "\n",
    "print(\"before merging\",merged_dic)\n",
    "for key,value in dict2.items():\n",
    "    merged_dic[key]=value\n",
    "    print(merged_dic)\n",
    "\n",
    "print(merged_dic)"
   ]
  },
  {
   "cell_type": "code",
   "execution_count": null,
   "id": "b49ed490-7d01-4e3f-9c3f-1f872969d8d7",
   "metadata": {},
   "outputs": [],
   "source": []
  },
  {
   "cell_type": "code",
   "execution_count": null,
   "id": "52798f89-4279-4c78-9023-cac669d25f64",
   "metadata": {},
   "outputs": [],
   "source": []
  },
  {
   "cell_type": "code",
   "execution_count": null,
   "id": "711717ff-6420-49a3-b3fa-0e8e0eadc106",
   "metadata": {},
   "outputs": [],
   "source": []
  },
  {
   "cell_type": "code",
   "execution_count": null,
   "id": "8c489c2e-40c4-41ef-9d09-a5eb6bd23397",
   "metadata": {},
   "outputs": [],
   "source": []
  },
  {
   "cell_type": "code",
   "execution_count": null,
   "id": "1ecddaf1-fd14-496f-a6a8-f4f561d8e92d",
   "metadata": {},
   "outputs": [],
   "source": []
  },
  {
   "cell_type": "code",
   "execution_count": null,
   "id": "1875c4e0-408e-4c52-820e-0a233c58505d",
   "metadata": {},
   "outputs": [],
   "source": []
  },
  {
   "cell_type": "code",
   "execution_count": null,
   "id": "14dd65c8-10d1-4131-bc50-a26e97a67a91",
   "metadata": {},
   "outputs": [],
   "source": []
  },
  {
   "cell_type": "code",
   "execution_count": null,
   "id": "d5dc2bed-d2ac-4409-b345-3238da2c3577",
   "metadata": {},
   "outputs": [],
   "source": []
  },
  {
   "cell_type": "code",
   "execution_count": null,
   "id": "b7fdab9e-fd4e-45b0-9013-465817e3f0c4",
   "metadata": {},
   "outputs": [],
   "source": []
  },
  {
   "cell_type": "code",
   "execution_count": null,
   "id": "a1b483f9-5bf0-4298-b976-1bb7a334aee6",
   "metadata": {},
   "outputs": [],
   "source": []
  },
  {
   "cell_type": "code",
   "execution_count": null,
   "id": "5d584529-85db-4436-829c-4c3645f6bb36",
   "metadata": {},
   "outputs": [],
   "source": []
  },
  {
   "cell_type": "code",
   "execution_count": null,
   "id": "b9be2507-de89-4140-a567-90808c0a6718",
   "metadata": {},
   "outputs": [],
   "source": []
  },
  {
   "cell_type": "code",
   "execution_count": null,
   "id": "19d59068-6d0c-4f85-b0ec-564d1556feae",
   "metadata": {},
   "outputs": [],
   "source": []
  },
  {
   "cell_type": "code",
   "execution_count": null,
   "id": "6bfdde26-62b6-4e4f-a512-cd0496d7c14c",
   "metadata": {},
   "outputs": [],
   "source": []
  },
  {
   "cell_type": "code",
   "execution_count": null,
   "id": "6916d046-2dc0-4734-ac38-4e95f9cbcf2c",
   "metadata": {},
   "outputs": [],
   "source": []
  },
  {
   "cell_type": "code",
   "execution_count": null,
   "id": "2d2ea856-294c-4f5f-a581-725ca7d846c3",
   "metadata": {},
   "outputs": [],
   "source": []
  },
  {
   "cell_type": "code",
   "execution_count": null,
   "id": "03d8dcdd-6bd2-4874-b122-f8d51c2951bb",
   "metadata": {},
   "outputs": [],
   "source": []
  },
  {
   "cell_type": "code",
   "execution_count": null,
   "id": "6ca5afce-dbc0-4a67-9249-1ae734bf625c",
   "metadata": {},
   "outputs": [],
   "source": []
  },
  {
   "cell_type": "code",
   "execution_count": null,
   "id": "9644df02-4264-4c80-b0ac-3bcfbfdb339a",
   "metadata": {},
   "outputs": [],
   "source": []
  },
  {
   "cell_type": "raw",
   "id": "b0abbd57-5379-4ce6-800d-d6afaebe5aed",
   "metadata": {},
   "source": []
  },
  {
   "cell_type": "code",
   "execution_count": null,
   "id": "1bce81ce-c54a-475f-adb4-f610960f6fcc",
   "metadata": {},
   "outputs": [],
   "source": []
  },
  {
   "cell_type": "code",
   "execution_count": null,
   "id": "303e30cd-b473-416f-a77b-986017d869dc",
   "metadata": {},
   "outputs": [],
   "source": []
  },
  {
   "cell_type": "code",
   "execution_count": null,
   "id": "4a0fac71-059d-4a03-aea6-b90ea6d86082",
   "metadata": {},
   "outputs": [],
   "source": []
  },
  {
   "cell_type": "code",
   "execution_count": null,
   "id": "ac416f3e-42ef-4596-a40e-ac5d71a99e2b",
   "metadata": {},
   "outputs": [],
   "source": []
  },
  {
   "cell_type": "code",
   "execution_count": null,
   "id": "ba2a4076-56ee-4dc4-af31-02d5cda722b8",
   "metadata": {},
   "outputs": [],
   "source": []
  },
  {
   "cell_type": "code",
   "execution_count": null,
   "id": "282b8c53-a60c-497b-bf85-c25068df4555",
   "metadata": {},
   "outputs": [],
   "source": []
  },
  {
   "cell_type": "code",
   "execution_count": null,
   "id": "510b66bb-b19b-46c7-a7e0-2092b6269b2d",
   "metadata": {},
   "outputs": [],
   "source": []
  },
  {
   "cell_type": "code",
   "execution_count": null,
   "id": "0a88e21a-8af9-4ec5-86b7-b69c91651dfa",
   "metadata": {},
   "outputs": [],
   "source": []
  },
  {
   "cell_type": "code",
   "execution_count": null,
   "id": "f8821d03-4e85-4e35-86fd-c8dc693ed03b",
   "metadata": {},
   "outputs": [],
   "source": []
  },
  {
   "cell_type": "code",
   "execution_count": null,
   "id": "b51084e5-db26-4d4e-99ab-1b30669d5c90",
   "metadata": {},
   "outputs": [],
   "source": []
  },
  {
   "cell_type": "code",
   "execution_count": null,
   "id": "c56d2550-b234-44c2-9f9a-b41f48fd930e",
   "metadata": {},
   "outputs": [],
   "source": []
  },
  {
   "cell_type": "code",
   "execution_count": null,
   "id": "5a5f5a9e-0306-476c-82e3-6dc3929584fb",
   "metadata": {},
   "outputs": [],
   "source": []
  },
  {
   "cell_type": "code",
   "execution_count": null,
   "id": "44565ec1-d1e2-473e-be9a-eac44b011bf0",
   "metadata": {},
   "outputs": [],
   "source": []
  },
  {
   "cell_type": "code",
   "execution_count": 8,
   "id": "f416d15e-4f0b-4f2a-a401-bf394df33476",
   "metadata": {},
   "outputs": [
    {
     "name": "stdout",
     "output_type": "stream",
     "text": [
      "Help on class dict in module builtins:\n",
      "\n",
      "class dict(object)\n",
      " |  dict() -> new empty dictionary\n",
      " |  dict(mapping) -> new dictionary initialized from a mapping object's\n",
      " |      (key, value) pairs\n",
      " |  dict(iterable) -> new dictionary initialized as if via:\n",
      " |      d = {}\n",
      " |      for k, v in iterable:\n",
      " |          d[k] = v\n",
      " |  dict(**kwargs) -> new dictionary initialized with the name=value pairs\n",
      " |      in the keyword argument list.  For example:  dict(one=1, two=2)\n",
      " |\n",
      " |  Built-in subclasses:\n",
      " |      StgDict\n",
      " |\n",
      " |  Methods defined here:\n",
      " |\n",
      " |  __contains__(self, key, /)\n",
      " |      True if the dictionary has the specified key, else False.\n",
      " |\n",
      " |  __delitem__(self, key, /)\n",
      " |      Delete self[key].\n",
      " |\n",
      " |  __eq__(self, value, /)\n",
      " |      Return self==value.\n",
      " |\n",
      " |  __ge__(self, value, /)\n",
      " |      Return self>=value.\n",
      " |\n",
      " |  __getattribute__(self, name, /)\n",
      " |      Return getattr(self, name).\n",
      " |\n",
      " |  __getitem__(self, key, /)\n",
      " |      Return self[key].\n",
      " |\n",
      " |  __gt__(self, value, /)\n",
      " |      Return self>value.\n",
      " |\n",
      " |  __init__(self, /, *args, **kwargs)\n",
      " |      Initialize self.  See help(type(self)) for accurate signature.\n",
      " |\n",
      " |  __ior__(self, value, /)\n",
      " |      Return self|=value.\n",
      " |\n",
      " |  __iter__(self, /)\n",
      " |      Implement iter(self).\n",
      " |\n",
      " |  __le__(self, value, /)\n",
      " |      Return self<=value.\n",
      " |\n",
      " |  __len__(self, /)\n",
      " |      Return len(self).\n",
      " |\n",
      " |  __lt__(self, value, /)\n",
      " |      Return self<value.\n",
      " |\n",
      " |  __ne__(self, value, /)\n",
      " |      Return self!=value.\n",
      " |\n",
      " |  __or__(self, value, /)\n",
      " |      Return self|value.\n",
      " |\n",
      " |  __repr__(self, /)\n",
      " |      Return repr(self).\n",
      " |\n",
      " |  __reversed__(self, /)\n",
      " |      Return a reverse iterator over the dict keys.\n",
      " |\n",
      " |  __ror__(self, value, /)\n",
      " |      Return value|self.\n",
      " |\n",
      " |  __setitem__(self, key, value, /)\n",
      " |      Set self[key] to value.\n",
      " |\n",
      " |  __sizeof__(...)\n",
      " |      D.__sizeof__() -> size of D in memory, in bytes\n",
      " |\n",
      " |  clear(...)\n",
      " |      D.clear() -> None.  Remove all items from D.\n",
      " |\n",
      " |  copy(...)\n",
      " |      D.copy() -> a shallow copy of D\n",
      " |\n",
      " |  get(self, key, default=None, /)\n",
      " |      Return the value for key if key is in the dictionary, else default.\n",
      " |\n",
      " |  items(...)\n",
      " |      D.items() -> a set-like object providing a view on D's items\n",
      " |\n",
      " |  keys(...)\n",
      " |      D.keys() -> a set-like object providing a view on D's keys\n",
      " |\n",
      " |  pop(...)\n",
      " |      D.pop(k[,d]) -> v, remove specified key and return the corresponding value.\n",
      " |\n",
      " |      If the key is not found, return the default if given; otherwise,\n",
      " |      raise a KeyError.\n",
      " |\n",
      " |  popitem(self, /)\n",
      " |      Remove and return a (key, value) pair as a 2-tuple.\n",
      " |\n",
      " |      Pairs are returned in LIFO (last-in, first-out) order.\n",
      " |      Raises KeyError if the dict is empty.\n",
      " |\n",
      " |  setdefault(self, key, default=None, /)\n",
      " |      Insert key with a value of default if key is not in the dictionary.\n",
      " |\n",
      " |      Return the value for key if key is in the dictionary, else default.\n",
      " |\n",
      " |  update(...)\n",
      " |      D.update([E, ]**F) -> None.  Update D from dict/iterable E and F.\n",
      " |      If E is present and has a .keys() method, then does:  for k in E: D[k] = E[k]\n",
      " |      If E is present and lacks a .keys() method, then does:  for k, v in E: D[k] = v\n",
      " |      In either case, this is followed by: for k in F:  D[k] = F[k]\n",
      " |\n",
      " |  values(...)\n",
      " |      D.values() -> an object providing a view on D's values\n",
      " |\n",
      " |  ----------------------------------------------------------------------\n",
      " |  Class methods defined here:\n",
      " |\n",
      " |  __class_getitem__(...)\n",
      " |      See PEP 585\n",
      " |\n",
      " |  fromkeys(iterable, value=None, /)\n",
      " |      Create a new dictionary with keys from iterable and values set to value.\n",
      " |\n",
      " |  ----------------------------------------------------------------------\n",
      " |  Static methods defined here:\n",
      " |\n",
      " |  __new__(*args, **kwargs)\n",
      " |      Create and return a new object.  See help(type) for accurate signature.\n",
      " |\n",
      " |  ----------------------------------------------------------------------\n",
      " |  Data and other attributes defined here:\n",
      " |\n",
      " |  __hash__ = None\n",
      "\n"
     ]
    }
   ],
   "source": [
    "#help(list)  # Documentation on Python's list\n",
    "help(dict)  # Documentation on Python's dictionary\n",
    "#help(tuple)  # Documentation on Python's tuple\n",
    "#help(set)  # Documentation on Python's set\n"
   ]
  },
  {
   "cell_type": "code",
   "execution_count": null,
   "id": "2b36908a-5ba3-4d7d-96d2-487a19b7872f",
   "metadata": {},
   "outputs": [],
   "source": []
  },
  {
   "cell_type": "code",
   "execution_count": null,
   "id": "49d40e3b-1cda-4dbf-b470-2a38310c9aa2",
   "metadata": {},
   "outputs": [],
   "source": []
  },
  {
   "cell_type": "code",
   "execution_count": null,
   "id": "5bb46655-ade0-4def-9580-8fc79cc8c95c",
   "metadata": {},
   "outputs": [],
   "source": []
  },
  {
   "cell_type": "code",
   "execution_count": null,
   "id": "a4109a28-e32f-4707-87e0-b38638a678ff",
   "metadata": {},
   "outputs": [],
   "source": []
  },
  {
   "cell_type": "code",
   "execution_count": null,
   "id": "3b393826-fa32-4900-9b70-650dedd8edb9",
   "metadata": {},
   "outputs": [],
   "source": []
  },
  {
   "cell_type": "code",
   "execution_count": null,
   "id": "c31317e6-e688-433d-a968-e3113811ecff",
   "metadata": {},
   "outputs": [],
   "source": []
  },
  {
   "cell_type": "code",
   "execution_count": null,
   "id": "38bcc3ed-a92e-4985-a0b2-7c6b36f5cb5d",
   "metadata": {},
   "outputs": [],
   "source": []
  }
 ],
 "metadata": {
  "kernelspec": {
   "display_name": "Python 3 (ipykernel)",
   "language": "python",
   "name": "python3"
  },
  "language_info": {
   "codemirror_mode": {
    "name": "ipython",
    "version": 3
   },
   "file_extension": ".py",
   "mimetype": "text/x-python",
   "name": "python",
   "nbconvert_exporter": "python",
   "pygments_lexer": "ipython3",
   "version": "3.12.4"
  }
 },
 "nbformat": 4,
 "nbformat_minor": 5
}
