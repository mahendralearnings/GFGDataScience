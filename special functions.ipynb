{
 "cells": [
  {
   "cell_type": "code",
   "execution_count": 1,
   "id": "6f5a9162-9a69-42e6-87c2-5688b0bf7f59",
   "metadata": {},
   "outputs": [
    {
     "name": "stdout",
     "output_type": "stream",
     "text": [
      "<zip object at 0x0000021544033140>\n"
     ]
    },
    {
     "data": {
      "text/plain": [
       "[(1, 6), (2, 7), (4, 8), (5, 9)]"
      ]
     },
     "execution_count": 1,
     "metadata": {},
     "output_type": "execute_result"
    }
   ],
   "source": [
    "#ZIP\n",
    "#lambda\n",
    "#map\n",
    "\n",
    "\"\"\"\n",
    "zip function is used to pack the items of list\n",
    "\n",
    "\"\"\"\n",
    "\n",
    "list1=[1,2,4,5,]\n",
    "list2=[6,7,8,9]\n",
    "\n",
    "print(zip(list1,list2)) #gives the zip object need result we need to convert to list\n",
    "\n",
    "list(zip(list1,list2))"
   ]
  },
  {
   "cell_type": "code",
   "execution_count": 8,
   "id": "1adcaf0f-0777-4570-8950-f70e312dc7b5",
   "metadata": {},
   "outputs": [
    {
     "data": {
      "text/plain": [
       "[[[1, 2, 3]], [[4, 5, 6]], [[7, 3, 6]], [[3, 47, 777]]]"
      ]
     },
     "execution_count": 8,
     "metadata": {},
     "output_type": "execute_result"
    }
   ],
   "source": [
    "#lets talk about matrix\n",
    "\n",
    "matrix_list=[[1,2,3],[4,5,6],[7,3,6],[3,47,777]]\n",
    "\n",
    "\n",
    "[list(row) for row in zip(matrix_list)]"
   ]
  },
  {
   "cell_type": "markdown",
   "id": "be8f3c0b-fdac-4a44-a505-216ff3cac957",
   "metadata": {},
   "source": [
    "## transpose mens rows to columns and columns to rows in a matrix\n",
    "just apply * to matrix\n",
    "\n",
    "[list(row) for row in zip(matrix_list)]\n",
    "\n",
    "**(3 by 4) become (4 by 3) ( i mean size like 3 rows 4 columns)**"
   ]
  },
  {
   "cell_type": "code",
   "execution_count": 9,
   "id": "f48b3c22-0957-46ad-998b-6cf5bdc12196",
   "metadata": {},
   "outputs": [
    {
     "data": {
      "text/plain": [
       "[[1, 4, 7, 3], [2, 5, 3, 47], [3, 6, 6, 777]]"
      ]
     },
     "execution_count": 9,
     "metadata": {},
     "output_type": "execute_result"
    }
   ],
   "source": [
    "[list(row) for row in zip(*matrix_list)]\n"
   ]
  },
  {
   "cell_type": "markdown",
   "id": "dad61c9e-bffa-43b3-8536-ceaffe43410a",
   "metadata": {},
   "source": [
    "**again if i apply transpose to the result it becomes original**"
   ]
  },
  {
   "cell_type": "code",
   "execution_count": 17,
   "id": "c6d47103-d5d2-4d47-83f0-2e8289b57dfe",
   "metadata": {},
   "outputs": [
    {
     "data": {
      "text/plain": [
       "[[1, 2, 3], [4, 5, 6], [7, 3, 6], [3, 47, 777]]"
      ]
     },
     "execution_count": 17,
     "metadata": {},
     "output_type": "execute_result"
    }
   ],
   "source": [
    " [ list(original) for original in zip(*[list(row) for row in zip(*matrix_list)])]\n"
   ]
  },
  {
   "cell_type": "code",
   "execution_count": 19,
   "id": "7cb393fa-573e-4e06-8cb9-06fe132f4175",
   "metadata": {},
   "outputs": [
    {
     "data": {
      "text/plain": [
       "[5, 12, 28]"
      ]
     },
     "execution_count": 19,
     "metadata": {},
     "output_type": "execute_result"
    }
   ],
   "source": [
    "l1=[1,2,4]\n",
    "l2=[5,6,7]\n",
    "\n",
    "[i*j for i,j in zip(l1,l2)]"
   ]
  },
  {
   "cell_type": "code",
   "execution_count": 20,
   "id": "10f7533c-0bba-4819-8169-e705f0a81724",
   "metadata": {},
   "outputs": [
    {
     "data": {
      "text/html": [
       "if i have un equal lengths of list then \n",
       "\n",
       "No Default Value: The zip() function does not automatically add any default values if the lists have different lengths. \n",
       "It simply stops when the shortest list is exhausted.\n",
       "\n",
       "If you want to zip lists of unequal lengths but ensure the longer list continues, \n",
       "you would need to use something like <b>itertools.zip_longest()</b>,\n",
       "\n",
       "where you can specify a default value for the shorter list.\n",
       "\n"
      ],
      "text/plain": [
       "<IPython.core.display.HTML object>"
      ]
     },
     "metadata": {},
     "output_type": "display_data"
    }
   ],
   "source": [
    "from IPython.display import display, HTML\n",
    "\n",
    "display(HTML('''if i have un equal lengths of list then \n",
    "\n",
    "No Default Value: The zip() function does not automatically add any default values if the lists have different lengths. \n",
    "It simply stops when the shortest list is exhausted.\n",
    "\n",
    "If you want to zip lists of unequal lengths but ensure the longer list continues, \n",
    "you would need to use something like <b>itertools.zip_longest()</b>,\n",
    "\n",
    "where you can specify a default value for the shorter list.\n",
    "\n",
    "'''))"
   ]
  },
  {
   "cell_type": "code",
   "execution_count": 21,
   "id": "98457259-b2f1-4886-a409-c768308874e4",
   "metadata": {},
   "outputs": [
    {
     "name": "stdout",
     "output_type": "stream",
     "text": [
      "[5, 12, 28]\n"
     ]
    }
   ],
   "source": [
    "l1 = [1, 2, 4]\n",
    "l2 = [5, 6, 7, 8]\n",
    "\n",
    "result = [i * j for i, j in zip(l1, l2)]\n",
    "print(result)  # Output: [5, 12, 28]\n"
   ]
  },
  {
   "cell_type": "markdown",
   "id": "b172b051-d33a-4046-bfd3-d8de00e3f6ef",
   "metadata": {},
   "source": [
    "itertools.zip_longest() is a function from the itertools module in Python, \n",
    "\n",
    "which allows you to zip two or more iterables (like lists or tuples) of unequal lengths. \n",
    "\n",
    "Unlike the regular zip() function, which stops at the shortest iterable, \n",
    "\n",
    "**zip_longest() continues until the longest iterable is exhausted.**\n",
    "\n",
    "For the **shorter iterables, you can specify a fill value** to be used when their elements are exhausted."
   ]
  },
  {
   "cell_type": "code",
   "execution_count": 22,
   "id": "204db84a-e29f-45a7-86dd-887fd317db8c",
   "metadata": {},
   "outputs": [
    {
     "ename": "NameError",
     "evalue": "name 'iterable1' is not defined",
     "output_type": "error",
     "traceback": [
      "\u001b[1;31m---------------------------------------------------------------------------\u001b[0m",
      "\u001b[1;31mNameError\u001b[0m                                 Traceback (most recent call last)",
      "Cell \u001b[1;32mIn[22], line 3\u001b[0m\n\u001b[0;32m      1\u001b[0m \u001b[38;5;28;01mimport\u001b[39;00m \u001b[38;5;21;01mitertools\u001b[39;00m\n\u001b[1;32m----> 3\u001b[0m itertools\u001b[38;5;241m.\u001b[39mzip_longest(\u001b[43miterable1\u001b[49m, iterable2, \u001b[38;5;241m.\u001b[39m\u001b[38;5;241m.\u001b[39m\u001b[38;5;241m.\u001b[39m, fillvalue\u001b[38;5;241m=\u001b[39m\u001b[38;5;28;01mNone\u001b[39;00m)\n",
      "\u001b[1;31mNameError\u001b[0m: name 'iterable1' is not defined"
     ]
    }
   ],
   "source": [
    "import itertools\n",
    "\n",
    "itertools.zip_longest(iterable1, iterable2, ..., fillvalue=None)\n"
   ]
  },
  {
   "cell_type": "code",
   "execution_count": 28,
   "id": "55886632-7e90-4096-b7f3-4973cc958c2b",
   "metadata": {},
   "outputs": [
    {
     "data": {
      "text/plain": [
       "[(5, 1), (6, 2), (7, 4), (8, 1), (9, 1), (10, 1), (111, 1)]"
      ]
     },
     "execution_count": 28,
     "metadata": {},
     "output_type": "execute_result"
    }
   ],
   "source": [
    "import itertools\n",
    "l1 = [1, 2, 4]\n",
    "l2 = [5, 6, 7, 8,9,10,111]\n",
    "list(itertools.zip_longest(l2,l1,fillvalue=1))"
   ]
  },
  {
   "cell_type": "code",
   "execution_count": null,
   "id": "ad5155e2-9fee-45e2-a6ce-f5b21961949b",
   "metadata": {},
   "outputs": [],
   "source": []
  },
  {
   "cell_type": "code",
   "execution_count": 27,
   "id": "ccfb16ba-af16-4d97-bb60-49f783f7706e",
   "metadata": {},
   "outputs": [
    {
     "name": "stdout",
     "output_type": "stream",
     "text": [
      "[5, 12, 28, 8, 9, 10, 111]\n"
     ]
    }
   ],
   "source": [
    "result=[ i*j for i,j in itertools.zip_longest(l2,l1,fillvalue=1)]\n",
    "print(result)"
   ]
  },
  {
   "cell_type": "markdown",
   "id": "bd0874be-d5c6-4a7c-b2d5-d7be64058318",
   "metadata": {},
   "source": [
    "## tuple and list and tiple and dictionaries with zip"
   ]
  },
  {
   "cell_type": "code",
   "execution_count": 39,
   "id": "414568e4-8110-4a5b-8359-54e4caf0b231",
   "metadata": {},
   "outputs": [
    {
     "data": {
      "text/plain": [
       "{1: 'a', 2: 'b', 3: 'c', 5: 'd'}"
      ]
     },
     "execution_count": 39,
     "metadata": {},
     "output_type": "execute_result"
    }
   ],
   "source": [
    "t=(1,2,3,5)\n",
    "l=['a','b','c','d']\n",
    "\n",
    "{k:v  for k,v in zip(t,l)}\n"
   ]
  },
  {
   "cell_type": "markdown",
   "id": "b4532dca-a146-4957-a16e-365c48aaf3c4",
   "metadata": {},
   "source": [
    "## filter condition"
   ]
  },
  {
   "cell_type": "code",
   "execution_count": 43,
   "id": "383beacd-adaa-423f-a3af-ed90ba1024db",
   "metadata": {},
   "outputs": [
    {
     "name": "stdout",
     "output_type": "stream",
     "text": [
      "[2, 4]\n"
     ]
    }
   ],
   "source": [
    "l=[1,2,3,4]\n",
    "def is_even(n):\n",
    "    return n%2==0\n",
    "\n",
    "print(list(filter(is_even,l)))   "
   ]
  },
  {
   "cell_type": "code",
   "execution_count": 45,
   "id": "68e165c5-7b4e-4ef8-8401-7bcfbdec9643",
   "metadata": {},
   "outputs": [
    {
     "name": "stdout",
     "output_type": "stream",
     "text": [
      "[2, 4]\n"
     ]
    }
   ],
   "source": [
    "l=[1,2,3,4]\n",
    "\n",
    "   \n",
    "print(list(filter(lambda x:x%2==0,l)))   "
   ]
  },
  {
   "cell_type": "code",
   "execution_count": 51,
   "id": "dd8176ee-3cc3-4199-8f51-4c54fac9768f",
   "metadata": {},
   "outputs": [
    {
     "ename": "TypeError",
     "evalue": "<lambda>() missing 1 required positional argument: 'x'",
     "output_type": "error",
     "traceback": [
      "\u001b[1;31m---------------------------------------------------------------------------\u001b[0m",
      "\u001b[1;31mTypeError\u001b[0m                                 Traceback (most recent call last)",
      "Cell \u001b[1;32mIn[51], line 4\u001b[0m\n\u001b[0;32m      1\u001b[0m even_list\u001b[38;5;241m=\u001b[39m[\u001b[38;5;28;01mlambda\u001b[39;00m x:x\u001b[38;5;241m*\u001b[39m\u001b[38;5;241m*\u001b[39m\u001b[38;5;241m2\u001b[39m  \u001b[38;5;28;01mfor\u001b[39;00m x \u001b[38;5;129;01min\u001b[39;00m \u001b[38;5;28mrange\u001b[39m(\u001b[38;5;241m1\u001b[39m,\u001b[38;5;241m5\u001b[39m)]\n\u001b[0;32m      3\u001b[0m \u001b[38;5;28;01mfor\u001b[39;00m item \u001b[38;5;129;01min\u001b[39;00m even_list:\n\u001b[1;32m----> 4\u001b[0m     \u001b[38;5;28mprint\u001b[39m(\u001b[43mitem\u001b[49m\u001b[43m(\u001b[49m\u001b[43m)\u001b[49m,end\u001b[38;5;241m=\u001b[39m\u001b[38;5;124m\"\u001b[39m\u001b[38;5;124m \u001b[39m\u001b[38;5;124m\"\u001b[39m)\n",
      "\u001b[1;31mTypeError\u001b[0m: <lambda>() missing 1 required positional argument: 'x'"
     ]
    }
   ],
   "source": [
    "even_list=[lambda x:x**2  for x in range(1,5)]\n",
    "\n",
    "for item in even_list:\n",
    "    print(item(),end=\" \")\n"
   ]
  },
  {
   "cell_type": "code",
   "execution_count": 60,
   "id": "5ce62240-1ec0-4e4a-a5f0-804f921db297",
   "metadata": {},
   "outputs": [
    {
     "name": "stdout",
     "output_type": "stream",
     "text": [
      "[<function <listcomp>.<lambda> at 0x000002154697D940>, <function <listcomp>.<lambda> at 0x000002154697DF70>, <function <listcomp>.<lambda> at 0x000002154697DC10>, <function <listcomp>.<lambda> at 0x000002154697DA60>]\n",
      "10 20 30 40 "
     ]
    }
   ],
   "source": [
    "is_even_list = [lambda arg=x: arg * 10 for x in range(1, 5)]\n",
    "\n",
    "print(is_even_list) #gives only list of lambda objects\n",
    "for item in is_even_list:\n",
    "\tprint(item(), end = ' ')\n"
   ]
  },
  {
   "cell_type": "code",
   "execution_count": 66,
   "id": "7009d2aa-2dd7-4b6b-9778-159c046c5f4b",
   "metadata": {},
   "outputs": [
    {
     "name": "stdout",
     "output_type": "stream",
     "text": [
      "[1, 2, 24, 31, 35, 37]\n"
     ]
    },
    {
     "data": {
      "text/plain": [
       "[1, 31, 35, 37]"
      ]
     },
     "execution_count": 66,
     "metadata": {},
     "output_type": "execute_result"
    }
   ],
   "source": [
    "l1=[1,2,24,31,35,37]\n",
    "print(l1)\n",
    "\n",
    "\n",
    "\n",
    "list(filter(lambda x:x%2!=0 ,l1))"
   ]
  },
  {
   "cell_type": "markdown",
   "id": "22376d25-432a-45a8-9059-082c75d644be",
   "metadata": {},
   "source": [
    "map function applies a given function to all items in an input iterable (e.g., list) and \n",
    "\n",
    "**returns an iterator of the results.**\n",
    "\n",
    "syntax: map(function, iterable, ...)\n",
    "\n",
    "\n"
   ]
  },
  {
   "cell_type": "code",
   "execution_count": 69,
   "id": "62de58ec-ea5e-49c6-a79e-73295bfc14ee",
   "metadata": {},
   "outputs": [
    {
     "name": "stdout",
     "output_type": "stream",
     "text": [
      "squared_numbers are : <map object at 0x0000021546036730>\n",
      "[1, 4, 9, 16, 25]\n"
     ]
    }
   ],
   "source": [
    "numbers = [1, 2, 3, 4, 5]\n",
    "# Using map to square each element\n",
    "squared_numbers = map(lambda x: x**2, numbers)\n",
    "\n",
    "print(\"squared_numbers are :\",squared_numbers)\n",
    "\n",
    "result_list = list(squared_numbers)\n",
    "\n",
    "print(result_list)\n"
   ]
  },
  {
   "cell_type": "markdown",
   "id": "00576e1f-10e3-47d8-b8d3-d4af30755a60",
   "metadata": {},
   "source": [
    "# Combining all functions\n",
    "\n"
   ]
  },
  {
   "cell_type": "code",
   "execution_count": 70,
   "id": "3abab242-ea55-4203-ae61-943ad03b6b55",
   "metadata": {},
   "outputs": [
    {
     "data": {
      "text/plain": [
       "\"You have two lists: one with people's ages and another with their names. You want to:\\n\\nPair the names with their ages using zip().\\n\\nUse filter() to select only those who are 18 or older (adults).\\n\\nUse map() to transform the remaining pairs by capitalizing the names and increasing their ages by 1 (simulating their next birthday).\""
      ]
     },
     "execution_count": 70,
     "metadata": {},
     "output_type": "execute_result"
    }
   ],
   "source": [
    "'''You have two lists: one with people's ages and another with their names. You want to:\n",
    "\n",
    "Pair the names with their ages using zip().\n",
    "\n",
    "Use filter() to select only those who are 18 or older (adults).\n",
    "\n",
    "Use map() to transform the remaining pairs by capitalizing the names and increasing their ages by 1 (simulating their next birthday).'''"
   ]
  },
  {
   "cell_type": "code",
   "execution_count": 81,
   "id": "8c864e79-9b43-43e4-9aa3-d565f11278ba",
   "metadata": {},
   "outputs": [
    {
     "name": "stdout",
     "output_type": "stream",
     "text": [
      "[('mahendra', 32), ('nali', 34), ('sundar', 12), ('chaya', 10), ('mangala', 21)]\n",
      "------------------------------\n",
      "[('mahendra', 32), ('nali', 34), ('mangala', 21)]\n",
      "------------------------------\n",
      "[('MAHENDRA', 33), ('NALI', 35), ('SUNDAR', 13), ('CHAYA', 11), ('MANGALA', 22)]\n"
     ]
    }
   ],
   "source": [
    "l1=[\"mahendra\",\"nali\",\"sundar\",\"chaya\",\"mangala\"]\n",
    "l2=[32,34,12,10,21]\n",
    "\n",
    "filter_names= [(name,ages)  for name,ages in zip(l1,l2)]\n",
    "\n",
    "filter_check_old=list(filter(lambda x:x[1]>=18 ,filter_names))\n",
    "\n",
    "map_cap=list(map(lambda x:(x[0].upper(),x[1]+1),filter_names))\n",
    "\n",
    "print(filter_names)\n",
    "print('-'*30)\n",
    "print(filter_check_old)\n",
    "\n",
    "print('-'*30)\n",
    "print(map_cap)\n"
   ]
  },
  {
   "cell_type": "code",
   "execution_count": null,
   "id": "0b44adec-1a6c-43f4-9cb9-7721f6dd93bb",
   "metadata": {},
   "outputs": [],
   "source": []
  },
  {
   "cell_type": "code",
   "execution_count": null,
   "id": "a747a14d-0bb6-4d8b-9338-366bc9f10799",
   "metadata": {},
   "outputs": [],
   "source": []
  },
  {
   "cell_type": "code",
   "execution_count": null,
   "id": "08110d85-7f4c-4240-8adf-ce28a92614a1",
   "metadata": {},
   "outputs": [],
   "source": []
  },
  {
   "cell_type": "code",
   "execution_count": null,
   "id": "0e258410-d6bd-4c85-a333-4219a966284f",
   "metadata": {},
   "outputs": [],
   "source": []
  },
  {
   "cell_type": "code",
   "execution_count": null,
   "id": "2e5995a8-ed3a-4748-bef3-effec9981246",
   "metadata": {},
   "outputs": [],
   "source": []
  },
  {
   "cell_type": "code",
   "execution_count": null,
   "id": "6523db7a-9490-4d3f-8fa9-64c25b34ed3a",
   "metadata": {},
   "outputs": [],
   "source": []
  },
  {
   "cell_type": "code",
   "execution_count": null,
   "id": "7dd19bb1-b2d1-4a41-b2f8-61177c427275",
   "metadata": {},
   "outputs": [],
   "source": []
  },
  {
   "cell_type": "code",
   "execution_count": null,
   "id": "1bbef7d9-82ee-497e-9af1-f6adcd77269c",
   "metadata": {},
   "outputs": [],
   "source": []
  },
  {
   "cell_type": "code",
   "execution_count": null,
   "id": "144025b5-a545-4ef1-8f24-252595c9bdd0",
   "metadata": {},
   "outputs": [],
   "source": []
  },
  {
   "cell_type": "code",
   "execution_count": null,
   "id": "9eb5c72e-9519-44c5-a814-386d1a78d1df",
   "metadata": {},
   "outputs": [],
   "source": []
  },
  {
   "cell_type": "code",
   "execution_count": null,
   "id": "3ce82fa5-5559-4e43-82b7-1057eac6fc0a",
   "metadata": {},
   "outputs": [],
   "source": []
  },
  {
   "cell_type": "code",
   "execution_count": null,
   "id": "d4e15735-ba9d-4b8c-b54b-3721dd7ca33d",
   "metadata": {},
   "outputs": [],
   "source": []
  },
  {
   "cell_type": "code",
   "execution_count": null,
   "id": "25f50125-52b2-43a0-8b61-f87803ea3f11",
   "metadata": {},
   "outputs": [],
   "source": []
  },
  {
   "cell_type": "code",
   "execution_count": null,
   "id": "abcd7838-e503-4dbe-b77b-dd4891c3d285",
   "metadata": {},
   "outputs": [],
   "source": []
  },
  {
   "cell_type": "code",
   "execution_count": null,
   "id": "e6a5acb1-a49e-485e-a853-5a728e275916",
   "metadata": {},
   "outputs": [],
   "source": []
  },
  {
   "cell_type": "code",
   "execution_count": null,
   "id": "2dabef12-cbec-48ff-9803-3f5ba3bcee7b",
   "metadata": {},
   "outputs": [],
   "source": []
  },
  {
   "cell_type": "code",
   "execution_count": null,
   "id": "b4162bc0-8766-486b-8774-e55537cb5132",
   "metadata": {},
   "outputs": [],
   "source": []
  },
  {
   "cell_type": "code",
   "execution_count": null,
   "id": "fe65f5c0-52f8-4b50-9d76-bc825d7249d7",
   "metadata": {},
   "outputs": [],
   "source": []
  },
  {
   "cell_type": "code",
   "execution_count": null,
   "id": "de1cd1a3-1e43-408d-968d-a247205581c5",
   "metadata": {},
   "outputs": [],
   "source": []
  },
  {
   "cell_type": "code",
   "execution_count": null,
   "id": "cfc3e063-bb0f-4099-afdb-7a45a5924a60",
   "metadata": {},
   "outputs": [],
   "source": []
  },
  {
   "cell_type": "code",
   "execution_count": null,
   "id": "18268afd-5321-4532-8e68-dddc489d4018",
   "metadata": {},
   "outputs": [],
   "source": []
  },
  {
   "cell_type": "code",
   "execution_count": null,
   "id": "1a0e992b-89aa-4977-b6c3-a4d780c1f4c5",
   "metadata": {},
   "outputs": [],
   "source": []
  },
  {
   "cell_type": "code",
   "execution_count": null,
   "id": "3ecac061-9f88-4874-bae1-c867015a6d06",
   "metadata": {},
   "outputs": [],
   "source": []
  },
  {
   "cell_type": "code",
   "execution_count": null,
   "id": "2c405573-d827-40c3-91de-748da12ae08d",
   "metadata": {},
   "outputs": [],
   "source": []
  },
  {
   "cell_type": "code",
   "execution_count": null,
   "id": "e38a054f-a3ed-4c9c-bafb-dfbc54a7b226",
   "metadata": {},
   "outputs": [],
   "source": []
  },
  {
   "cell_type": "code",
   "execution_count": null,
   "id": "8c537be9-f5b7-47cc-b48f-95be382df1ee",
   "metadata": {},
   "outputs": [],
   "source": []
  },
  {
   "cell_type": "code",
   "execution_count": null,
   "id": "f91aba6f-645b-4aba-ba1a-636eaabdb917",
   "metadata": {},
   "outputs": [],
   "source": []
  },
  {
   "cell_type": "code",
   "execution_count": null,
   "id": "56a41cfd-66ab-4926-a55c-43c58f20dd9b",
   "metadata": {},
   "outputs": [],
   "source": []
  },
  {
   "cell_type": "code",
   "execution_count": null,
   "id": "c331e550-7512-428c-a8af-212dbaa96f4d",
   "metadata": {},
   "outputs": [],
   "source": []
  },
  {
   "cell_type": "code",
   "execution_count": null,
   "id": "a4a5c93c-45d7-42dc-84ad-2a0265bd1760",
   "metadata": {},
   "outputs": [],
   "source": []
  },
  {
   "cell_type": "code",
   "execution_count": null,
   "id": "ba7645cf-dda4-4230-8139-6afd20991ece",
   "metadata": {},
   "outputs": [],
   "source": []
  },
  {
   "cell_type": "code",
   "execution_count": null,
   "id": "df5defec-a86c-4c85-989e-a834fadfd3b8",
   "metadata": {},
   "outputs": [],
   "source": []
  },
  {
   "cell_type": "code",
   "execution_count": null,
   "id": "a191da86-3b17-47c9-b865-7023a73d6238",
   "metadata": {},
   "outputs": [],
   "source": []
  },
  {
   "cell_type": "code",
   "execution_count": null,
   "id": "50d4dfdb-0aba-4aa2-9e42-3312315e5b8a",
   "metadata": {},
   "outputs": [],
   "source": []
  },
  {
   "cell_type": "code",
   "execution_count": null,
   "id": "81760441-91d8-42ab-b5bc-9de4ca937c4d",
   "metadata": {},
   "outputs": [],
   "source": []
  },
  {
   "cell_type": "code",
   "execution_count": null,
   "id": "88ee40e4-8148-4062-8029-fc11f9431004",
   "metadata": {},
   "outputs": [],
   "source": []
  },
  {
   "cell_type": "code",
   "execution_count": null,
   "id": "0fc8f829-b615-4684-b008-2668d077fa90",
   "metadata": {},
   "outputs": [],
   "source": []
  },
  {
   "cell_type": "code",
   "execution_count": null,
   "id": "e4f630dc-1813-40b8-856b-3a065ca6b778",
   "metadata": {},
   "outputs": [],
   "source": []
  },
  {
   "cell_type": "code",
   "execution_count": null,
   "id": "ea12b420-be37-4f3f-9c42-14bcaa8fda95",
   "metadata": {},
   "outputs": [],
   "source": []
  },
  {
   "cell_type": "code",
   "execution_count": null,
   "id": "77e5879d-7efd-4a04-bd49-379081afdce0",
   "metadata": {},
   "outputs": [],
   "source": []
  },
  {
   "cell_type": "code",
   "execution_count": null,
   "id": "d15ebed3-59f6-4fb5-9f94-622a7129a86e",
   "metadata": {},
   "outputs": [],
   "source": []
  },
  {
   "cell_type": "code",
   "execution_count": null,
   "id": "7e658f52-5845-4e4a-9fb9-8587f52c9972",
   "metadata": {},
   "outputs": [],
   "source": []
  },
  {
   "cell_type": "code",
   "execution_count": null,
   "id": "d29c7bfb-5a6e-42f8-8090-e2e1d8aeeb90",
   "metadata": {},
   "outputs": [],
   "source": []
  },
  {
   "cell_type": "code",
   "execution_count": null,
   "id": "1f55252c-eab4-4a0e-8b42-9f33565c4d4b",
   "metadata": {},
   "outputs": [],
   "source": []
  },
  {
   "cell_type": "code",
   "execution_count": null,
   "id": "51f2e0d7-5893-4d56-9aa7-764f7b8f4a3e",
   "metadata": {},
   "outputs": [],
   "source": []
  },
  {
   "cell_type": "code",
   "execution_count": null,
   "id": "94a0405f-f83a-4a83-a6ab-5b9f5a9275a6",
   "metadata": {},
   "outputs": [],
   "source": []
  },
  {
   "cell_type": "code",
   "execution_count": null,
   "id": "07dca08f-16d6-4c80-afe1-5bc75ceb18c9",
   "metadata": {},
   "outputs": [],
   "source": []
  },
  {
   "cell_type": "code",
   "execution_count": null,
   "id": "f05fc38f-eb55-4b1d-bd2f-9b29943b6b00",
   "metadata": {},
   "outputs": [],
   "source": []
  },
  {
   "cell_type": "code",
   "execution_count": null,
   "id": "7a26d95f-1687-4377-b9a7-d49cc56a6fca",
   "metadata": {},
   "outputs": [],
   "source": []
  },
  {
   "cell_type": "code",
   "execution_count": null,
   "id": "3ee3d08c-0333-443a-8696-6d02ace7ae39",
   "metadata": {},
   "outputs": [],
   "source": []
  },
  {
   "cell_type": "code",
   "execution_count": null,
   "id": "87155aa9-c42d-4406-a359-9783fcd2d95c",
   "metadata": {},
   "outputs": [],
   "source": []
  },
  {
   "cell_type": "code",
   "execution_count": null,
   "id": "44f47e82-dfe0-4dda-9114-cfa5bf91a72c",
   "metadata": {},
   "outputs": [],
   "source": []
  },
  {
   "cell_type": "code",
   "execution_count": null,
   "id": "a88a3cf2-e538-4107-8d99-ed14cff08a65",
   "metadata": {},
   "outputs": [],
   "source": []
  },
  {
   "cell_type": "code",
   "execution_count": null,
   "id": "c81bb075-0c8a-44b2-a59b-9ec96f4e1a8d",
   "metadata": {},
   "outputs": [],
   "source": []
  },
  {
   "cell_type": "code",
   "execution_count": null,
   "id": "ec27e2f9-9dc3-4971-8f00-3209ac5f26c1",
   "metadata": {},
   "outputs": [],
   "source": []
  },
  {
   "cell_type": "code",
   "execution_count": null,
   "id": "f846f5a3-d343-47d9-9e63-94a47d2e55c6",
   "metadata": {},
   "outputs": [],
   "source": []
  },
  {
   "cell_type": "code",
   "execution_count": null,
   "id": "ced50662-4d62-43d4-b16a-8350ca72ccf5",
   "metadata": {},
   "outputs": [],
   "source": []
  },
  {
   "cell_type": "code",
   "execution_count": null,
   "id": "8af52ce0-3f6f-458c-80fb-345d3bd9e796",
   "metadata": {},
   "outputs": [],
   "source": []
  },
  {
   "cell_type": "code",
   "execution_count": null,
   "id": "add5a55d-a59f-49c7-a7d9-a11da0fc8ca5",
   "metadata": {},
   "outputs": [],
   "source": []
  },
  {
   "cell_type": "code",
   "execution_count": null,
   "id": "75048324-c6e7-40cb-a615-0b30af693b1a",
   "metadata": {},
   "outputs": [],
   "source": []
  },
  {
   "cell_type": "code",
   "execution_count": null,
   "id": "ab8cac21-02eb-401f-b6a8-79354b8e20b3",
   "metadata": {},
   "outputs": [],
   "source": []
  },
  {
   "cell_type": "code",
   "execution_count": null,
   "id": "a71c753a-5a8d-43fb-91d0-c60168b1ce1d",
   "metadata": {},
   "outputs": [],
   "source": []
  },
  {
   "cell_type": "code",
   "execution_count": null,
   "id": "d0ef5766-66e7-428b-b020-4ea500805ca3",
   "metadata": {},
   "outputs": [],
   "source": []
  }
 ],
 "metadata": {
  "kernelspec": {
   "display_name": "py38",
   "language": "python",
   "name": "py38"
  },
  "language_info": {
   "codemirror_mode": {
    "name": "ipython",
    "version": 3
   },
   "file_extension": ".py",
   "mimetype": "text/x-python",
   "name": "python",
   "nbconvert_exporter": "python",
   "pygments_lexer": "ipython3",
   "version": "3.8.19"
  }
 },
 "nbformat": 4,
 "nbformat_minor": 5
}
