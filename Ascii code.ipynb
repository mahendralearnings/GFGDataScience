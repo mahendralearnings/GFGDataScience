{
 "cells": [
  {
   "cell_type": "markdown",
   "id": "47c30ba9-5645-4747-87cf-ed5c48e7acb1",
   "metadata": {},
   "source": [
    "Problem Statement - \n",
    "\n",
    "Caesar Cipher Encryption and Decryption. The Caesar cipher is a type of substitution cipher where each letter in the plaintext is shifted a certain number of places down or up the alphabet.\n",
    "\n"
   ]
  },
  {
   "cell_type": "code",
   "execution_count": 1,
   "id": "ff9e2b12-a994-4a80-a0e6-301b7562255d",
   "metadata": {},
   "outputs": [
    {
     "name": "stdout",
     "output_type": "stream",
     "text": [
      "Encrypted Message : Mj~%Ljjp&%\\mfy,x%~tzw%uwtlwjxxD\n",
      "Decrypted Message : Hey Geek! What's your progress?\n"
     ]
    }
   ],
   "source": [
    "def encrypt(message, shift):\n",
    "    encrypted_text = ''.join([chr(ord(char) + shift) for char in message])\n",
    "    return encrypted_text\n",
    "\n",
    "def decrypt(encrypted_message, shift):\n",
    "    decrypted_text = ''.join([chr(ord(char) - shift) for char in encrypted_message])\n",
    "    return decrypted_text\n",
    "  \n",
    "encrypted_message= encrypt(\"Hey Geek! What's your progress?\", 5)\n",
    "print(\"Encrypted Message :\", encrypted_message)\n",
    "decrypted_message = decrypt(encrypted_message, 5)\n",
    "print(\"Decrypted Message :\", decrypted_message)\n"
   ]
  },
  {
   "cell_type": "code",
   "execution_count": null,
   "id": "38eedeca-e1cf-4f5f-84b6-107fde566651",
   "metadata": {},
   "outputs": [],
   "source": []
  }
 ],
 "metadata": {
  "kernelspec": {
   "display_name": "py38",
   "language": "python",
   "name": "py38"
  },
  "language_info": {
   "codemirror_mode": {
    "name": "ipython",
    "version": 3
   },
   "file_extension": ".py",
   "mimetype": "text/x-python",
   "name": "python",
   "nbconvert_exporter": "python",
   "pygments_lexer": "ipython3",
   "version": "3.8.19"
  }
 },
 "nbformat": 4,
 "nbformat_minor": 5
}
